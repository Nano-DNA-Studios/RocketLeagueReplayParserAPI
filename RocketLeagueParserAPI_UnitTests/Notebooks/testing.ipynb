{
 "cells": [
  {
   "cell_type": "code",
   "execution_count": null,
   "metadata": {
    "dotnet_interactive": {
     "language": "csharp"
    },
    "polyglot_notebook": {
     "kernelName": "csharp"
    },
    "vscode": {
     "languageId": "polyglot-notebook"
    }
   },
   "outputs": [],
   "source": [
    "#r \"D:\\NanoDNA Studios\\Programming\\RocketLeagueReplayExtractorAPI\\RocketLeagueReplayExtractorAPI\\bin\\Debug\\net8.0\\RocketLeagueReplayParserAPI.dll\"\n",
    "#r \"D:\\NanoDNA Studios\\Programming\\DNA-CLI-Framework\\DNA-CLI-Framework\\bin\\Debug\\net8.0\\DNA-CLI-Framework.dll\"\n",
    "\n",
    "using RocketLeagueReplayParserAPI;\n",
    "using DNA_CLI_Framework;"
   ]
  },
  {
   "cell_type": "code",
   "execution_count": null,
   "metadata": {
    "dotnet_interactive": {
     "language": "csharp"
    },
    "polyglot_notebook": {
     "kernelName": "csharp"
    },
    "vscode": {
     "languageId": "polyglot-notebook"
    }
   },
   "outputs": [],
   "source": [
    "Replay replay = new Replay(@\"..\\Resources\\GoldenGoose.replay\");"
   ]
  },
  {
   "cell_type": "code",
   "execution_count": null,
   "metadata": {
    "dotnet_interactive": {
     "language": "csharp"
    },
    "polyglot_notebook": {
     "kernelName": "csharp"
    },
    "vscode": {
     "languageId": "polyglot-notebook"
    }
   },
   "outputs": [],
   "source": [
    "\n",
    "Console.WriteLine(replay.ReplayName);\n",
    "\n",
    "Console.WriteLine(PlayerInfo.DisplayStats.Length);\n",
    "Console.WriteLine(PlayerInfo.DisplayStatsWithUnits.Length);\n",
    "\n",
    "\n",
    "foreach (Team team in replay.MatchRoster.Teams)\n",
    "{\n",
    "    Table table = new Table();\n",
    "\n",
    "    table.SetTitle(\"Players\");\n",
    "\n",
    "    string[] header = [\"Names\", ..PlayerInfo.DisplayStatsWithUnits];\n",
    "\n",
    "\n",
    "    table.AddRow(header);\n",
    "\n",
    "\n",
    "    foreach (PlayerInfo player in team.Players)\n",
    "    {\n",
    "        table.AddRow(player.GetScoreboardInfo());\n",
    "    }\n",
    "\n",
    "    table.AddRow(team.GetTeamScoreboard());\n",
    "\n",
    "    table.PrintTable();\n",
    "}\n",
    "\n",
    "\n",
    "\n",
    "\n",
    "\n",
    "\n",
    "\n",
    "\n",
    "\n"
   ]
  }
 ],
 "metadata": {
  "language_info": {
   "name": "csharp"
  }
 },
 "nbformat": 4,
 "nbformat_minor": 2
}
