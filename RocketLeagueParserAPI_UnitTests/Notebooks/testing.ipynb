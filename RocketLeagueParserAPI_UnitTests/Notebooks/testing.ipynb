{
 "cells": [
  {
   "cell_type": "code",
   "execution_count": 1,
   "metadata": {
    "dotnet_interactive": {
     "language": "csharp"
    },
    "polyglot_notebook": {
     "kernelName": "csharp"
    },
    "vscode": {
     "languageId": "polyglot-notebook"
    }
   },
   "outputs": [],
   "source": [
    "#r \"D:\\NanoDNA Studios\\Programming\\RocketLeagueReplayExtractorAPI\\RocketLeagueReplayExtractorAPI\\bin\\Debug\\net8.0\\RocketLeagueReplayParserAPI.dll\"\n",
    "#r \"D:\\NanoDNA Studios\\Programming\\DNA-CLI-Framework\\DNA-CLI-Framework\\bin\\Debug\\net8.0\\DNA-CLI-Framework.dll\""
   ]
  },
  {
   "cell_type": "code",
   "execution_count": 2,
   "metadata": {
    "dotnet_interactive": {
     "language": "csharp"
    },
    "polyglot_notebook": {
     "kernelName": "csharp"
    },
    "vscode": {
     "languageId": "polyglot-notebook"
    }
   },
   "outputs": [],
   "source": [
    "\n",
    "using RocketLeagueReplayParserAPI;\n",
    "using DNA_CLI_Framework;\n",
    "\n",
    "Replay replay = new Replay(@\"..\\Resources\\GoldenGoose.replay\");\n"
   ]
  },
  {
   "cell_type": "code",
   "execution_count": 3,
   "metadata": {
    "dotnet_interactive": {
     "language": "csharp"
    },
    "polyglot_notebook": {
     "kernelName": "csharp"
    },
    "vscode": {
     "languageId": "polyglot-notebook"
    }
   },
   "outputs": [
    {
     "name": "stdout",
     "output_type": "stream",
     "text": [
      "\n",
      "+--------------------------------------------------------------------------------------------------------------------------------------------------+\n",
      "|                                                                      Players                                                                     |\n",
      "+------------+-------+-------+---------+-------+-------+---------+----------------------+-------------------------+--------------------------------+\n",
      "| PlayerName | Score | Goals | Assists | Saves | Shots | Touches | Touch Percentage (%) | Ball Possesion Time (s) | Ball Possession Percentage (%) |\n",
      "+------------+-------+-------+---------+-------+-------+---------+----------------------+-------------------------+--------------------------------+\n",
      "|   alffaz   |  757  |   2   |    0    |   3   |   5   |   65    |      52.845528       |        135.99841        |            54.27183            |\n",
      "+------------+-------+-------+---------+-------+-------+---------+----------------------+-------------------------+--------------------------------+\n",
      "|  Stats16   |  218  |   0   |    0    |   1   |   3   |   25    |      20.325203       |        43.045383        |           17.177788            |\n",
      "+------------+-------+-------+---------+-------+-------+---------+----------------------+-------------------------+--------------------------------+\n",
      "|   Mar2D2   |  260  |   0   |    0    |   1   |   2   |   33    |      26.829268       |        71.543686        |           28.550385            |\n",
      "+------------+-------+-------+---------+-------+-------+---------+----------------------+-------------------------+--------------------------------+\n",
      "| Blue Team  | 1235  |   2   |    0    |   5   |  10   |   123   |         100          |        250.58748        |              100               |\n",
      "+------------+-------+-------+---------+-------+-------+---------+----------------------+-------------------------+--------------------------------+\n",
      "\n",
      "\n",
      "+----------------------------------------------------------------------------------------------------------------------------------------------------+\n",
      "|                                                                       Players                                                                      |\n",
      "+--------------+-------+-------+---------+-------+-------+---------+----------------------+-------------------------+--------------------------------+\n",
      "|  PlayerName  | Score | Goals | Assists | Saves | Shots | Touches | Touch Percentage (%) | Ball Possesion Time (s) | Ball Possession Percentage (%) |\n",
      "+--------------+-------+-------+---------+-------+-------+---------+----------------------+-------------------------+--------------------------------+\n",
      "| MyTyranosaur |  880  |   3   |    0    |   4   |   4   |   30    |      28.846153       |        83.65342         |            35.21508            |\n",
      "+--------------+-------+-------+---------+-------+-------+---------+----------------------+-------------------------+--------------------------------+\n",
      "|     Evan     |  262  |   0   |    1    |   1   |   3   |   16    |      15.384615       |        29.096083        |           12.248404            |\n",
      "+--------------+-------+-------+---------+-------+-------+---------+----------------------+-------------------------+--------------------------------+\n",
      "| Vanilla Rain |  585  |   0   |    2    |   2   |   4   |   58    |       55.76923       |        124.80049        |            52.53652            |\n",
      "+--------------+-------+-------+---------+-------+-------+---------+----------------------+-------------------------+--------------------------------+\n",
      "| Orange Team  | 1727  |   3   |    3    |   7   |  11   |   104   |         100          |        237.54999        |              100               |\n",
      "+--------------+-------+-------+---------+-------+-------+---------+----------------------+-------------------------+--------------------------------+\n",
      "\n"
     ]
    }
   ],
   "source": [
    "\n",
    "Console.WriteLine(replay.ReplayName)\n",
    "\n",
    "\n",
    "\n",
    "\n",
    "foreach (Team team in replay.MatchRoster.Teams)\n",
    "{\n",
    "    Table table = new Table();\n",
    "\n",
    "    table.SetTitle(\"Players\");\n",
    "    table.AddRow(\"PlayerName\", \"Score\", \"Goals\", \"Assists\", \"Saves\", \"Shots\", \"Touches\", \"Touch Percentage (%)\", \"Ball Possesion Time (s)\", \"Ball Possession Percentage (%)\");\n",
    "\n",
    "\n",
    "    foreach (PlayerInfo player in team.Players)\n",
    "    {\n",
    "        table.AddRow(player.GetScoreboardInfo());\n",
    "    }\n",
    "\n",
    "\n",
    "\n",
    "\n",
    "    table.AddRow(team.GetTeamScoreboard());\n",
    "\n",
    "    table.PrintTable();\n",
    "}\n",
    "\n",
    "\n",
    "\n",
    "\n",
    "\n",
    "\n",
    "\n",
    "\n",
    "\n"
   ]
  }
 ],
 "metadata": {
  "language_info": {
   "name": "csharp"
  }
 },
 "nbformat": 4,
 "nbformat_minor": 2
}
