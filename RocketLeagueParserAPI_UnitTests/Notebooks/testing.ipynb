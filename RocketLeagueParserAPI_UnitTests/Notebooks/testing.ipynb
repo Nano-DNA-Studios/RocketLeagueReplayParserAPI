{
 "cells": [
  {
   "cell_type": "code",
   "execution_count": 2,
   "metadata": {
    "dotnet_interactive": {
     "language": "csharp"
    },
    "polyglot_notebook": {
     "kernelName": "csharp"
    },
    "vscode": {
     "languageId": "polyglot-notebook"
    }
   },
   "outputs": [],
   "source": [
    "#r \"D:\\NanoDNA Studios\\Programming\\RocketLeagueReplayExtractorAPI\\RocketLeagueReplayExtractorAPI\\bin\\Debug\\net8.0\\RocketLeagueReplayParserAPI.dll\"\n",
    "#r \"D:\\NanoDNA Studios\\Programming\\DNA-CLI-Framework\\DNA-CLI-Framework\\bin\\Debug\\net8.0\\DNA-CLI-Framework.dll\""
   ]
  },
  {
   "cell_type": "code",
   "execution_count": 3,
   "metadata": {
    "vscode": {
     "languageId": "polyglot-notebook"
    }
   },
   "outputs": [],
   "source": [
    "\n",
    "using RocketLeagueReplayParserAPI;\n",
    "using DNA_CLI_Framework;\n",
    "\n",
    "Replay replay = new Replay(@\"..\\Resources\\GoldenGoose.replay\");"
   ]
  },
  {
   "cell_type": "code",
   "execution_count": 4,
   "metadata": {
    "vscode": {
     "languageId": "polyglot-notebook"
    }
   },
   "outputs": [
    {
     "ename": "Error",
     "evalue": "(6,38): error CS1061: 'Replay' does not contain a definition for 'Players' and no accessible extension method 'Players' accepting a first argument of type 'Replay' could be found (are you missing a using directive or an assembly reference?)",
     "output_type": "error",
     "traceback": [
      "(6,38): error CS1061: 'Replay' does not contain a definition for 'Players' and no accessible extension method 'Players' accepting a first argument of type 'Replay' could be found (are you missing a using directive or an assembly reference?)"
     ]
    }
   ],
   "source": [
    "Table table = new Table();\n",
    "\n",
    "table.SetTitle(\"Players\");\n",
    "table.AddRow(\"PlayerName\", \"Score\", \"Goals\", \"Assists\", \"Saves\", \"Shots\", \"Touches\", \"Touch Percentage (%)\", \"Ball Possesion Time (s)\", \"Ball Possession Percentage (%)\");\n",
    "\n",
    "foreach (PlayerInfo player in replay.MatchRoster.GetAllPlayers())\n",
    "{\n",
    "    table.AddRow(player.GetScoreboardInfo());\n",
    "}\n",
    "\n",
    "table.PrintTable();\n",
    "\n",
    "\n",
    "Console.WriteLine(GameStats.Score.ToString());\n"
   ]
  }
 ],
 "metadata": {
  "language_info": {
   "name": "csharp"
  }
 },
 "nbformat": 4,
 "nbformat_minor": 2
}
